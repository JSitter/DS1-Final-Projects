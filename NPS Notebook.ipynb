{
 "cells": [
  {
   "cell_type": "code",
   "execution_count": 1,
   "metadata": {},
   "outputs": [
    {
     "name": "stdout",
     "output_type": "stream",
     "text": [
      "Set of all Ratings: {'1', '3', '0', '5', '10', '8', '#ERROR!', '2', '7', '4', '9', '6'}\n",
      "Set of all Paces: {'Just right', nan, 'Way too slow', 'A little too slow', 'A little too fast', 'Way too fast'}\n"
     ]
    }
   ],
   "source": [
    "import pandas as pd\n",
    "import numpy as np\n",
    "import matplotlib.pyplot as plt\n",
    "from collections import Counter\n",
    "import glob\n",
    "\n",
    "%matplotlib inline\n",
    "np.random.seed(45831)\n",
    "\n",
    "#Read in some data\n",
    "data_df = pd.read_csv('datasets/ms_survey_feedback/2016/Week 8 Feedback (2016, incomplete) - results.csv')\n",
    "data_df.head()\n",
    "# glob.glob('datasets/ms_survey_feedback/2016/Anon Week 1 Feedback - LA.csv')\n",
    "\n",
    "# df = pd.DataFrame(columns=[\"Week\", \"City\",\"Timestamp\", \"Overall Satisfaction\", \"Pacing\"])\n",
    "# df.describe()\n",
    "\n",
    "seventeen_df = pd.read_csv('datasets/ms_survey_feedback/2017/Student Feedback Surveys-Superview.csv')\n",
    "\n",
    "ratings = set(seventeen_df['Rating (Num)'])\n",
    "pacing = set(seventeen_df[\"Schedule Pacing\"])\n",
    "# display(seventeen_df.head())\n",
    "\n",
    "print(\"Set of all Ratings:\", ratings)\n",
    "print(\"Set of all Paces:\", pacing)\n",
    "\n",
    "ratings_df = seventeen_df['']\n",
    "\n",
    "\n",
    "# seventeen_df[seventeen_df.column == \"Rating (Num)\"]\n",
    "# ratings = Set(seventeen_df)"
   ]
  },
  {
   "cell_type": "code",
   "execution_count": null,
   "metadata": {
    "collapsed": true
   },
   "outputs": [],
   "source": []
  }
 ],
 "metadata": {
  "kernelspec": {
   "display_name": "Python 3",
   "language": "python",
   "name": "python3"
  },
  "language_info": {
   "codemirror_mode": {
    "name": "ipython",
    "version": 3
   },
   "file_extension": ".py",
   "mimetype": "text/x-python",
   "name": "python",
   "nbconvert_exporter": "python",
   "pygments_lexer": "ipython3",
   "version": "3.6.3"
  }
 },
 "nbformat": 4,
 "nbformat_minor": 2
}
